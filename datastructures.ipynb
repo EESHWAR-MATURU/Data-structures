{
 "cells": [
  {
   "cell_type": "code",
   "execution_count": 57,
   "metadata": {},
   "outputs": [
    {
     "name": "stdout",
     "output_type": "stream",
     "text": [
      "11\n",
      "1\n"
     ]
    }
   ],
   "source": [
    "a=[1,3,6,8,2,11]\n",
    "print(max(a))\n",
    "print(min(a))"
   ]
  },
  {
   "cell_type": "code",
   "execution_count": 4,
   "metadata": {},
   "outputs": [
    {
     "name": "stdout",
     "output_type": "stream",
     "text": [
      "[2, 6, 4]\n",
      "the average of ele in the array: 4.0\n"
     ]
    }
   ],
   "source": [
    "a=[]\n",
    "b=int(input(\"enter no of elements:\"))\n",
    "for i in range(0,b):\n",
    "    d=int(input(\"enter elements\"))\n",
    "    a.append(d)\n",
    "print(a)\n",
    "print(\"the average of ele in the array:\",sum(a)/b)"
   ]
  },
  {
   "cell_type": "code",
   "execution_count": 9,
   "metadata": {},
   "outputs": [
    {
     "name": "stdout",
     "output_type": "stream",
     "text": [
      "[2, 74, 7, 53, 2]\n"
     ]
    }
   ],
   "source": [
    "a=[]\n",
    "b=int(input(\"enter no of elements:\"))\n",
    "for i in range(0,b):\n",
    "    d=int(input(\"enter elements\"))\n",
    "    a.append(d)\n",
    "print(a)\n"
   ]
  },
  {
   "cell_type": "markdown",
   "metadata": {},
   "source": [
    "MAXIMUM ELEMENT IN THE ARRAY"
   ]
  },
  {
   "cell_type": "code",
   "execution_count": 1,
   "metadata": {},
   "outputs": [
    {
     "name": "stdout",
     "output_type": "stream",
     "text": [
      "54541\n"
     ]
    }
   ],
   "source": [
    "a=[112,5,54541,110]\n",
    "def max(a,x):\n",
    "    max=a[0]\n",
    "    for i in range(1,x):\n",
    "        if a[i]>max:\n",
    "            max=a[i]\n",
    "    return max   \n",
    "n=len(a)\n",
    "result=print(max(a,n))\n"
   ]
  },
  {
   "cell_type": "markdown",
   "metadata": {},
   "source": [
    "LINEAR SEARCH"
   ]
  },
  {
   "cell_type": "code",
   "execution_count": 53,
   "metadata": {},
   "outputs": [
    {
     "name": "stdout",
     "output_type": "stream",
     "text": [
      "the index value of 5 = 1\n"
     ]
    }
   ],
   "source": [
    "import numpy as np\n",
    "a=[2,5,11,10,12]\n",
    "arr=np.array(a)\n",
    "x=int(input(\"Enter number to find:\"))\n",
    "for i in range(len(arr)):\n",
    "    if arr[i]==x:\n",
    "        print(\"the index value of\",x,\"=\",i)\n",
    "        break\n",
    "else:\n",
    "    print(\"element doesnot exist\")\n",
    "\n",
    "\n"
   ]
  },
  {
   "cell_type": "markdown",
   "metadata": {},
   "source": [
    "BINARY SEARCH"
   ]
  },
  {
   "cell_type": "code",
   "execution_count": null,
   "metadata": {},
   "outputs": [],
   "source": [
    "def binary( arr, low, high, num ) :\n",
    "    if high >= low :\n",
    "        mid = (low + high)//2\n",
    "        if arr[mid] == num :\n",
    "            return mid\n",
    "        elif num < arr[mid] :\n",
    "            return binary( arr, low, mid -1 , num )\n",
    "        else :\n",
    "            return binary( arr, mid+1, high, num )\n",
    "    else :\n",
    "        return -1 #element does not exist\n",
    "data=[4,7,23,45,86,93,121,222]\n",
    "print('The array is',data)\n",
    "num = int(input('Enter the element to search :'))\n",
    "print('The index of', num ,'is',(binary(data,0,len(data)-1,num)))\n"
   ]
  },
  {
   "cell_type": "markdown",
   "metadata": {},
   "source": [
    "BUBBLE SORT"
   ]
  },
  {
   "cell_type": "code",
   "execution_count": 35,
   "metadata": {},
   "outputs": [
    {
     "name": "stdout",
     "output_type": "stream",
     "text": [
      "given array [5, 4, 89, 0, 1, 45]\n",
      "sorted array [0, 1, 4, 5, 45, 89]\n"
     ]
    }
   ],
   "source": [
    "#bubble sort\n",
    "def bubble(a):\n",
    "    for i in range(l-1):\n",
    "         for j in range(l-i-1):\n",
    "                if a[j]>a[j+1]:\n",
    "                    c=a[j]\n",
    "                    a[j]=a[j+1]\n",
    "                    a[j+1]=c\n",
    "    return a\n",
    "a=[]\n",
    "b=int(input(\"enter no of elements:\"))\n",
    "for i in range(0,b):\n",
    "    ele=int(input(\"enter elements:\"))\n",
    "    a.append(ele)\n",
    "print(\"given array\",a)\n",
    "l=len(a)\n",
    "print(\"sorted array\",bubble(a))"
   ]
  },
  {
   "cell_type": "markdown",
   "metadata": {},
   "source": [
    "SELECTION SORT"
   ]
  },
  {
   "cell_type": "code",
   "execution_count": 36,
   "metadata": {},
   "outputs": [
    {
     "name": "stdout",
     "output_type": "stream",
     "text": [
      "given array [2, 0, 47, 81, 23, 39]\n",
      "sorted array [0, 2, 23, 39, 47, 81]\n"
     ]
    }
   ],
   "source": [
    "#selection sorting\n",
    "def selection(a):\n",
    "    for i in range(0,l):\n",
    "        min=i\n",
    "        for j in range(i+1,l):\n",
    "            if a[j]<a[min]:\n",
    "                c=a[min]\n",
    "                a[min]=a[j]\n",
    "                a[j]=c\n",
    "    return a\n",
    "a=[]\n",
    "b=int(input(\"enter no of elements:\"))\n",
    "for i in range(0,b):\n",
    "    ele=int(input(\"enter elements:\"))\n",
    "    a.append(ele)\n",
    "print(\"given array\",a)\n",
    "l=len(a)\n",
    "print(\"sorted array\",selection(a))"
   ]
  },
  {
   "cell_type": "markdown",
   "metadata": {},
   "source": [
    "INSERTION SORTING"
   ]
  },
  {
   "cell_type": "code",
   "execution_count": 12,
   "metadata": {},
   "outputs": [
    {
     "name": "stdout",
     "output_type": "stream",
     "text": [
      "given array [28, 562, 4, 0]\n",
      "the sorted array [0, 4, 28, 562]\n"
     ]
    }
   ],
   "source": [
    "#insertion\n",
    "def insertion(a):\n",
    "    for i in range(0,l):\n",
    "        x=a[i]\n",
    "        j=i-1\n",
    "        while j>=0:\n",
    "            if x<a[j]:\n",
    "                a[j+1]=a[j]\n",
    "                a[j]=x\n",
    "                j-=1\n",
    "            else:\n",
    "                break\n",
    "    return a\n",
    "a=[]\n",
    "b=int(input(\"enter no of elements:\"))\n",
    "for i in range(0,b):\n",
    "    ele=int(input(\"enter elements:\"))\n",
    "    a.append(ele)\n",
    "print(\"given array\",a)\n",
    "l=len(a)\n",
    "print(\"the sorted array\",insertion(a))\n"
   ]
  },
  {
   "cell_type": "markdown",
   "metadata": {},
   "source": [
    "MERGE SORT"
   ]
  },
  {
   "cell_type": "code",
   "execution_count": 3,
   "metadata": {},
   "outputs": [
    {
     "ename": "ValueError",
     "evalue": "invalid literal for int() with base 10: ''",
     "output_type": "error",
     "traceback": [
      "\u001b[1;31m---------------------------------------------------------------------------\u001b[0m",
      "\u001b[1;31mValueError\u001b[0m                                Traceback (most recent call last)",
      "\u001b[1;32mc:\\Python.vs code\\Data_Structures\\datastructures.ipynb Cell 23\u001b[0m in \u001b[0;36m<cell line: 31>\u001b[1;34m()\u001b[0m\n\u001b[0;32m     <a href='vscode-notebook-cell:/c%3A/Python.vs%20code/Data_Structures/datastructures.ipynb#X36sZmlsZQ%3D%3D?line=27'>28</a>\u001b[0m             k\u001b[39m+\u001b[39m\u001b[39m=\u001b[39m\u001b[39m1\u001b[39m\n\u001b[0;32m     <a href='vscode-notebook-cell:/c%3A/Python.vs%20code/Data_Structures/datastructures.ipynb#X36sZmlsZQ%3D%3D?line=29'>30</a>\u001b[0m a \u001b[39m=\u001b[39m []\n\u001b[1;32m---> <a href='vscode-notebook-cell:/c%3A/Python.vs%20code/Data_Structures/datastructures.ipynb#X36sZmlsZQ%3D%3D?line=30'>31</a>\u001b[0m n \u001b[39m=\u001b[39m \u001b[39mint\u001b[39;49m(\u001b[39minput\u001b[39;49m(\u001b[39m\"\u001b[39;49m\u001b[39mEnter number of elements : \u001b[39;49m\u001b[39m\"\u001b[39;49m))\n\u001b[0;32m     <a href='vscode-notebook-cell:/c%3A/Python.vs%20code/Data_Structures/datastructures.ipynb#X36sZmlsZQ%3D%3D?line=31'>32</a>\u001b[0m \u001b[39mfor\u001b[39;00m i \u001b[39min\u001b[39;00m \u001b[39mrange\u001b[39m(\u001b[39m0\u001b[39m, n):\n\u001b[0;32m     <a href='vscode-notebook-cell:/c%3A/Python.vs%20code/Data_Structures/datastructures.ipynb#X36sZmlsZQ%3D%3D?line=32'>33</a>\u001b[0m \telement \u001b[39m=\u001b[39m \u001b[39mint\u001b[39m(\u001b[39minput\u001b[39m(\u001b[39m\"\u001b[39m\u001b[39mEnter elements:\u001b[39m\u001b[39m\"\u001b[39m))\n",
      "\u001b[1;31mValueError\u001b[0m: invalid literal for int() with base 10: ''"
     ]
    }
   ],
   "source": [
    "def merge_sort(a):\n",
    "    if len(a)>1:\n",
    "        mid=len(a)//2\n",
    "        left=a[:mid]\n",
    "        right=a[mid:]\n",
    "\n",
    "        merge_sort(left)\n",
    "        merge_sort(right)\n",
    "\n",
    "        i=j=k=0\n",
    "\n",
    "        while i<len(left) and j<len(right):\n",
    "            if left[i]<=right[j]:\n",
    "                a[k]=left[i]\n",
    "                i+=1\n",
    "            else:\n",
    "                a[k]=right[j]\n",
    "                j+=1\n",
    "            k+=1\n",
    "        \n",
    "        while i<len(left):\n",
    "            a[k]=left[i]\n",
    "            i+=1\n",
    "            k+=1\n",
    "        while j<len(right):\n",
    "            a[k]=right[j]\n",
    "            j+=1\n",
    "            k+=1\n",
    "\n",
    "a = []\n",
    "n = int(input(\"Enter number of elements : \"))\n",
    "for i in range(0, n):\n",
    "\telement = int(input(\"Enter elements:\"))\n",
    "\ta.append(element) \n",
    "\n",
    "\n",
    "print(\"Unsorted array : \",a)\n",
    "size=len(a)\n",
    "merge_sort(a)\n",
    "print(\"Sorted array : \",a)"
   ]
  },
  {
   "cell_type": "markdown",
   "metadata": {},
   "source": [
    "QUICK SORT"
   ]
  },
  {
   "cell_type": "code",
   "execution_count": 11,
   "metadata": {},
   "outputs": [
    {
     "name": "stdout",
     "output_type": "stream",
     "text": [
      "Unsorted array :  [4, 23, 3, 13, 84, 14]\n",
      "Sorted array :  [3, 4, 13, 14, 23, 84]\n"
     ]
    }
   ],
   "source": [
    "def partition(arr,low,high):\n",
    "  pivot=arr[high]\n",
    "  i=low-1\n",
    "  for j in range(low,high):\n",
    "    if arr[j]<=pivot:\n",
    "      i=i+1\n",
    "      (arr[i],arr[j])=(arr[j],arr[i])\n",
    "  (arr[i+1],arr[high])=(arr[high],arr[i+1])\n",
    "  return i+1\n",
    "\n",
    "def quick_sort(arr,low,high):\n",
    "  if low<high:\n",
    "    pos=partition(arr,low,high)\n",
    "    quick_sort(arr,low,pos-1)\n",
    "    quick_sort(arr,pos+1,high)\n",
    "\n",
    "\n",
    "a = []\n",
    "n = int(input(\"Enter number of elements : \"))\n",
    "for i in range(0, n):\n",
    "\telement = int(input(\"Enter elements:\"))\n",
    "\ta.append(element) \n",
    "\n",
    "\n",
    "print(\"Unsorted array : \",a)\n",
    "size=len(a)\n",
    "quick_sort(a,0,size-1)\n",
    "print(\"Sorted array : \",a)"
   ]
  },
  {
   "cell_type": "markdown",
   "metadata": {},
   "source": [
    " Design a program to create a singly linked list for the following operations\n",
    "\n",
    "• Insert a Node at Beginning, at Ending and at a given Position\n",
    "\n",
    "• Delete a Node at Beginning, at Ending and at a given Position\n",
    "\n",
    "• Search, Count the Number of Nodes and Display"
   ]
  },
  {
   "cell_type": "code",
   "execution_count": null,
   "metadata": {},
   "outputs": [],
   "source": []
  },
  {
   "cell_type": "code",
   "execution_count": null,
   "metadata": {},
   "outputs": [],
   "source": [
    "from http.client import SWITCHING_PROTOCOLS\n",
    "from sys import setswitchinterval\n",
    "\n",
    "\n",
    "class node:\n",
    "    def __init__(self,element=None):\n",
    "        self.data=element\n",
    "        self.next=None\n",
    "\n",
    "class linkedlist:\n",
    "    def __init__(self):\n",
    "        self.head=None\n",
    "    def addbeginning(self,newdata):\n",
    "        newnode=node(self,newdata)\n",
    "        newnode.next(self.head)\n",
    "        self.head=newnode\n",
    "    \n",
    "    def insetbetween(self,prevnode,newdata):\n",
    "        if prevnode is None:\n",
    "            print(\"the given previous node must be in Linked list\")\n",
    "            return\n",
    "        newnode=node(newdata)\n",
    "        newnode.next=prevnode.next\n",
    "        prevnode.next=\n",
    "        \n"
   ]
  },
  {
   "cell_type": "code",
   "execution_count": 1,
   "metadata": {},
   "outputs": [],
   "source": [
    "class Node: \n",
    "    def __init__(self, data): \n",
    "        self.data = data \n",
    "        self.next = None \n",
    "  \n",
    "class LinkedList: \n",
    "    def __init__(self): \n",
    "        self.head = None\n",
    "  \n",
    "    def append(self, new_data): \n",
    "        new_node = Node(new_data) \n",
    "        if self.head is None: \n",
    "            self.head = new_node \n",
    "            return\n",
    "        last = self.head \n",
    "        while (last.next): \n",
    "            last = last.next\n",
    "        last.next =  new_node \n",
    "  \n",
    "    def printList(self): \n",
    "        temp = self.head \n",
    "        while (temp): \n",
    "            print(temp.data) \n",
    "            temp = temp.next"
   ]
  },
  {
   "cell_type": "code",
   "execution_count": 3,
   "metadata": {},
   "outputs": [
    {
     "name": "stdout",
     "output_type": "stream",
     "text": [
      "1 2 3 5 \n",
      "0 1 2 3 5 \n",
      "0 1 2 3 4 5 \n",
      "0 1 2 3 4 5 6 \n",
      "1 2 3 4 5 6 \n",
      "1 2 3 4 5 \n",
      "1 2 3 5 \n",
      "found 2 at 1\n",
      "1 2 3 5 \n",
      "4\n"
     ]
    }
   ],
   "source": [
    "class Node:\n",
    "    def __init__(self, data):\n",
    "        self.data = data\n",
    "        self.next = None\n",
    "\n",
    "class LinkedList:\n",
    "    def __init__(self):\n",
    "        self.head = None\n",
    "    \n",
    "    def insert_begin(self, data):\n",
    "      new_node = Node(data)\n",
    "      if self.head is None:\n",
    "        self.head = new_node\n",
    "      new_node.next = self.head\n",
    "      self.head = new_node\n",
    "\n",
    "    def insert_random(self, data, pos):\n",
    "      new_node = Node(data)\n",
    "      temp = self.head\n",
    "      flag = 0\n",
    "      for i in range(pos):\n",
    "        if temp is None:\n",
    "          print('error')\n",
    "          return\n",
    "        ptr = temp\n",
    "        temp = temp.next\n",
    "      new_node.next = temp\n",
    "      ptr.next = new_node\n",
    "      \n",
    "\n",
    "    def insert_last(self,data):\n",
    "      new_node = Node(data)\n",
    "      if self.head is None:\n",
    "        self.head = new_node\n",
    "      else:\n",
    "        temp = self.head\n",
    "        while temp.next:\n",
    "          temp = temp.next\n",
    "        temp.next = new_node\n",
    "    \n",
    "    def delete_begin(self):\n",
    "      if self.head is None:\n",
    "        print('list is empty')\n",
    "      else:\n",
    "        ptr = self.head\n",
    "        self.head = ptr.next\n",
    "        del(ptr)\n",
    "\n",
    "    def delete_end(self):\n",
    "      if self.head is None:\n",
    "        print('list is empty')\n",
    "      else:\n",
    "        temp = self.head\n",
    "        while temp.next:\n",
    "          ptr = temp\n",
    "          temp = temp.next\n",
    "        ptr.next = None\n",
    "        del(temp)\n",
    "    \n",
    "    def delete_random(self,pos):\n",
    "      if self.head is None:\n",
    "        print('list is empty')\n",
    "      else:\n",
    "        temp = self.head\n",
    "        for i in range(pos):\n",
    "          if temp is None:\n",
    "            print('error-x002')\n",
    "            return\n",
    "          ptr = temp\n",
    "          temp = temp.next\n",
    "        ptr.next = temp.next\n",
    "        del(temp)\n",
    "\n",
    "    def search(self, search_element):\n",
    "      temp = self.head\n",
    "      flag = -1\n",
    "      while temp:\n",
    "        flag += 1\n",
    "        if temp.data == search_element:\n",
    "          print('found',search_element,'at', flag)\n",
    "          return\n",
    "        temp = temp.next\n",
    "      else:\n",
    "        print('not found')\n",
    "    \n",
    "    def count(self):\n",
    "      count = 0\n",
    "      if self.head is None:\n",
    "        pass\n",
    "      else:\n",
    "        temp = self.head\n",
    "        while temp:\n",
    "          count += 1\n",
    "          temp = temp.next\n",
    "        print(count)\n",
    "          \n",
    "    def display(self):\n",
    "      temp = self.head\n",
    "      while temp:\n",
    "        print(temp.data,end=' ')\n",
    "        temp = temp.next\n",
    "      print()\n",
    "\n",
    "def List_to_LinkedList(input_list, l2):\n",
    "  for i in input_list:\n",
    "    l2.insert_last(i)\n",
    "\n",
    "l1 = LinkedList()\n",
    "List_to_LinkedList([1,2,3,5],l1)\n",
    "l1.display()\n",
    "l1.insert_begin(0)\n",
    "l1.display()\n",
    "l1.insert_random(4,4)\n",
    "l1.display()\n",
    "l1.insert_last(6)\n",
    "l1.display()\n",
    "l1.delete_begin()\n",
    "l1.display()\n",
    "l1.delete_end()\n",
    "l1.display()\n",
    "l1.delete_random(3)\n",
    "l1.display()\n",
    "l1.search(2)\n",
    "l1.display()\n",
    "l1.count()"
   ]
  },
  {
   "cell_type": "code",
   "execution_count": 13,
   "metadata": {},
   "outputs": [
    {
     "name": "stdout",
     "output_type": "stream",
     "text": [
      "Cornfield Chase\n",
      "Mountains\n",
      "Day-One\n",
      "No Time For Caution\n",
      "S.T.A.Y\n",
      "Do Not go Gentle into That GoodNight\n",
      "The length of linked list is  6\n"
     ]
    }
   ],
   "source": [
    "class Node : \n",
    "\n",
    "    def __init__(self,element = None) :\n",
    "        self.data = element \n",
    "        self.next = None \n",
    "\n",
    "class LinkedList:\n",
    "    def __init__(self):\n",
    "       self.head = None\n",
    "\n",
    "    def Add_To_Beginning(self, new_data):\n",
    "        new_node = Node(new_data)\n",
    "        new_node.next = self.head\n",
    "        self.head = new_node\n",
    "\n",
    "    def Insert_In_Between(self, prev_node, new_data):\n",
    "        if prev_node is None:\n",
    "            print(\"The given previous node must in LinkedList.\")\n",
    "            return\n",
    "        new_node = Node(new_data)\n",
    "        new_node.next = prev_node.next\n",
    "        prev_node.next = new_node\n",
    "\n",
    "    def Append(self, new_data):\n",
    "        new_node = Node(new_data)\n",
    "        if self.head is None:\n",
    "            self.head = new_node\n",
    "            return\n",
    "        cur = self.head\n",
    "        while (cur.next):\n",
    "            cur = cur.next\n",
    "        cur.next = new_node\n",
    "    \n",
    "    def display(self):\n",
    "        cur = self.head\n",
    "        while (cur):\n",
    "            print(cur.data,end=\"\\n\")\n",
    "            cur = cur.next\n",
    "    \n",
    "    def Get_Length(self):\n",
    "        cur = self.head\n",
    "        length = 0\n",
    "        while(cur):\n",
    "            length += 1\n",
    "            cur = cur.next\n",
    "        return length\n",
    "\n",
    "Interstellar = LinkedList()\n",
    "Interstellar.Add_To_Beginning(\"Cornfield Chase\")\n",
    "Interstellar.Append(\"Mountains\") \n",
    "Interstellar.Append(\"No Time For Caution\")\n",
    "Interstellar.Append(\"S.T.A.Y\")\n",
    "Interstellar.Insert_In_Between(Interstellar.head.next, \"Day-One\")\n",
    "Interstellar.Append(\"Do Not go Gentle into That GoodNight\")\n",
    "\n",
    "Interstellar.display()\n",
    "print(\"The length of linked list is \",Interstellar.Get_Length() )"
   ]
  },
  {
   "cell_type": "code",
   "execution_count": null,
   "metadata": {},
   "outputs": [],
   "source": []
  }
 ],
 "metadata": {
  "kernelspec": {
   "display_name": "Python 3",
   "language": "python",
   "name": "python3"
  },
  "language_info": {
   "codemirror_mode": {
    "name": "ipython",
    "version": 3
   },
   "file_extension": ".py",
   "mimetype": "text/x-python",
   "name": "python",
   "nbconvert_exporter": "python",
   "pygments_lexer": "ipython3",
   "version": "3.10.2 (tags/v3.10.2:a58ebcc, Jan 17 2022, 14:12:15) [MSC v.1929 64 bit (AMD64)]"
  },
  "orig_nbformat": 4,
  "vscode": {
   "interpreter": {
    "hash": "2e993bf83ec523d09849f09350ed08db7b166d06891336a8ff089d7da4a5f54c"
   }
  }
 },
 "nbformat": 4,
 "nbformat_minor": 2
}
