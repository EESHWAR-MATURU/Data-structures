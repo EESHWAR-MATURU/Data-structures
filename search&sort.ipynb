{
 "cells": [
  {
   "cell_type": "code",
   "execution_count": 16,
   "metadata": {},
   "outputs": [
    {
     "name": "stdout",
     "output_type": "stream",
     "text": [
      "[0, 1, 2, 3, 8, 8, 9, 9, 10, 12, 56, 66, 143]\n",
      "element found at 6\n"
     ]
    }
   ],
   "source": [
    "#binary search\n",
    "element=int(input())\n",
    "list=[3,8,66,143,9,8,10,56,2,9,0,1,12]\n",
    "list.sort()\n",
    "flag=0\n",
    "low=0\n",
    "high=len(list)-1\n",
    "\n",
    "#printing the sorted list\n",
    "print(list)\n",
    "\n",
    "while low!=high:\n",
    "    mid=(low+high)//2\n",
    "    if list[mid]==element:\n",
    "        print(\"element found at\",mid)\n",
    "        flag+=1\n",
    "        break\n",
    "    elif element>list[mid]:\n",
    "        low=mid+1\n",
    "        high=high\n",
    "    elif element<list[mid]:\n",
    "        low=0\n",
    "        high=mid-1\n",
    "    \n",
    "if flag==0:\n",
    "    print(\"element not found\")"
   ]
  },
  {
   "cell_type": "code",
   "execution_count": 2,
   "metadata": {},
   "outputs": [
    {
     "name": "stdout",
     "output_type": "stream",
     "text": [
      "element found at 1\n"
     ]
    }
   ],
   "source": [
    "#linear search\n",
    "def linear(list,element):\n",
    "\n",
    "    flag=0\n",
    "    for i in range(0,len(list)):\n",
    "        if list[i]==element:\n",
    "            return i\n",
    "            flag+=1\n",
    "            break\n",
    "    if flag==0:\n",
    "        return 0\n",
    "\n",
    "list=[2,5,34,179,41,59,57,10]\n",
    "element=int(input())\n",
    "result=linear(list,element)\n",
    "if result==0:\n",
    "    print(\"element not found\")\n",
    "else:\n",
    "    print(\"element found at\",result)"
   ]
  },
  {
   "cell_type": "code",
   "execution_count": 17,
   "metadata": {},
   "outputs": [
    {
     "name": "stdout",
     "output_type": "stream",
     "text": [
      "Sorted list is :  [5, 7, 10, 34, 57, 59, 60, 179]\n"
     ]
    }
   ],
   "source": [
    "#selection sort\n",
    "def sort(list):\n",
    "\n",
    "    for j in range(0,len(list)):\n",
    "        min=j\n",
    "        for i in range(j+1,len(list)):\n",
    "            if list[i]<list[min]:\n",
    "                temp=list[min]\n",
    "                list[min]=list[i]\n",
    "                list[i]=temp\n",
    "\n",
    "    return list\n",
    "    \n",
    "        \n",
    "list=[7,5,34,179,60,59,57,10]\n",
    "print(\"Sorted list is : \", sort(list))\n",
    "\n"
   ]
  },
  {
   "cell_type": "code",
   "execution_count": 2,
   "metadata": {},
   "outputs": [
    {
     "name": "stdout",
     "output_type": "stream",
     "text": [
      "Sorted list :  [1, 3, 5, 7, 8, 12]\n"
     ]
    }
   ],
   "source": [
    "#insertion sort\n",
    "def insertion(list):\n",
    "\n",
    "    for i in range(1,len(list)):\n",
    "        value=list[i]\n",
    "        j=i-1\n",
    "        while j>=0:\n",
    "            if value<list[j]:\n",
    "                list[j+1]=list[j]\n",
    "                list[j]=value\n",
    "                j-=1\n",
    "            else:\n",
    "                break\n",
    "    return list\n",
    "    \n",
    "list=[7,1,5,12,3,8]\n",
    "print(\"Sorted list : \",insertion(list))\n",
    "\n",
    "\n",
    "\n"
   ]
  },
  {
   "cell_type": "code",
   "execution_count": 2,
   "metadata": {},
   "outputs": [
    {
     "name": "stdout",
     "output_type": "stream",
     "text": [
      "Sorted List :  [1, 3, 5, 6, 7, 8, 14, 99]\n"
     ]
    }
   ],
   "source": [
    "#bubble sort\n",
    "def bubble(list):\n",
    "\n",
    "    for i in range(0,len(list)):\n",
    "        for j in range(0, len(list)-i-1):\n",
    "            if list[j]>list[j+1]:\n",
    "                temp=list[j]\n",
    "                list[j]=list[j+1]\n",
    "                list[j+1]=temp\n",
    "    return list\n",
    "\n",
    "list=[3,6,1,7,8,99,14,5]\n",
    "print(\"Sorted List : \", bubble(list))"
   ]
  },
  {
   "cell_type": "code",
   "execution_count": null,
   "metadata": {},
   "outputs": [],
   "source": []
  }
 ],
 "metadata": {
  "kernelspec": {
   "display_name": "Python 3.10.2 64-bit",
   "language": "python",
   "name": "python3"
  },
  "language_info": {
   "codemirror_mode": {
    "name": "ipython",
    "version": 3
   },
   "file_extension": ".py",
   "mimetype": "text/x-python",
   "name": "python",
   "nbconvert_exporter": "python",
   "pygments_lexer": "ipython3",
   "version": "3.10.2"
  },
  "orig_nbformat": 4,
  "vscode": {
   "interpreter": {
    "hash": "2e993bf83ec523d09849f09350ed08db7b166d06891336a8ff089d7da4a5f54c"
   }
  }
 },
 "nbformat": 4,
 "nbformat_minor": 2
}
