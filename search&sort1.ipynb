{
 "cells": [
  {
   "cell_type": "code",
   "execution_count": 2,
   "metadata": {},
   "outputs": [
    {
     "name": "stdout",
     "output_type": "stream",
     "text": [
      "[0, 1, 2, 3, 8, 8, 9, 9, 10, 12, 56, 66, 143]\n",
      "4\n"
     ]
    }
   ],
   "source": [
    "#binary search\n",
    "def binary(list,element):\n",
    "\n",
    "    list.sort()\n",
    "    flag=0\n",
    "    low=0\n",
    "    high=len(list)-1\n",
    "\n",
    "    #printing the sorted list\n",
    "    print(list)\n",
    "\n",
    "    while high>=low:\n",
    "        mid=(low+high)//2\n",
    "        if list[mid]==element:\n",
    "            return mid\n",
    "            flag+=1\n",
    "            break\n",
    "        elif element>list[mid]:\n",
    "            low=mid+1\n",
    "            high=high\n",
    "        elif element<list[mid]:\n",
    "            low=0\n",
    "            high=mid-1\n",
    "    \n",
    "    if flag==0:\n",
    "        return -1\n",
    "\n",
    "element=int(input())\n",
    "list=[3,8,66,143,9,8,10,56,2,9,0,1,12]\n",
    "print(binary(list,element))"
   ]
  },
  {
   "cell_type": "code",
   "execution_count": 3,
   "metadata": {},
   "outputs": [
    {
     "name": "stdout",
     "output_type": "stream",
     "text": [
      "element found at 3\n"
     ]
    }
   ],
   "source": [
    "#linear search\n",
    "def linear(list,element):\n",
    "\n",
    "    flag=0\n",
    "    for i in range(0,len(list)):\n",
    "        if list[i]==element:\n",
    "            return i\n",
    "            flag+=1\n",
    "            break\n",
    "    if flag==0:\n",
    "        return 0\n",
    "\n",
    "list=[2,5,34,179,41,59,57,10]\n",
    "element=int(input())\n",
    "result=linear(list,element)\n",
    "if result==0:\n",
    "    print(\"element not found\")\n",
    "else:\n",
    "    print(\"element found at\",result)"
   ]
  },
  {
   "cell_type": "code",
   "execution_count": 4,
   "metadata": {},
   "outputs": [
    {
     "name": "stdout",
     "output_type": "stream",
     "text": [
      "Sorted list is :  [1, 5, 7, 34, 57, 59, 60, 179]\n"
     ]
    }
   ],
   "source": [
    "#selection sort\n",
    "def selection(list):\n",
    "\n",
    "    for j in range(0,len(list)):\n",
    "        min=j\n",
    "        for i in range(j+1,len(list)):\n",
    "            if list[i]<list[min]:\n",
    "                temp=list[min]\n",
    "                list[min]=list[i]\n",
    "                list[i]=temp\n",
    "        \n",
    "\n",
    "    return list\n",
    "    \n",
    "        \n",
    "list=[7,5,34,179,60,59,57,1]\n",
    "print(\"Sorted list is : \", selection(list))\n",
    "\n"
   ]
  },
  {
   "cell_type": "code",
   "execution_count": 4,
   "metadata": {},
   "outputs": [
    {
     "name": "stdout",
     "output_type": "stream",
     "text": [
      "Sorted list :  [1, 2, 3, 5, 6, 7, 8, 12, 33, 46]\n"
     ]
    }
   ],
   "source": [
    "#insertion sort\n",
    "def insertion(list):\n",
    "\n",
    "    for i in range(1,len(list)):\n",
    "        value=list[i]\n",
    "        j=i-1   \n",
    "        while j>=0 and value<list[j]:\n",
    "            list[j+1]=list[j]\n",
    "            list[j]=value\n",
    "            j-=1\n",
    "        list[j+1]=value\n",
    "        \n",
    "    return list\n",
    "    \n",
    "list=[7,1,5,12,46,33,2,6,3,8]\n",
    "print(\"Sorted list : \",insertion(list))\n",
    "\n",
    "\n",
    "\n"
   ]
  },
  {
   "cell_type": "code",
   "execution_count": 1,
   "metadata": {},
   "outputs": [
    {
     "name": "stdout",
     "output_type": "stream",
     "text": [
      "Unsorted Array\n",
      "[8, 7, 2, 1, 0, 9, 6]\n",
      "Sorted Array in Ascending Order:\n",
      "[0, 1, 2, 6, 7, 8, 9]\n"
     ]
    }
   ],
   "source": [
    "# Quick sort in Python\n",
    "\n",
    "\n",
    "def partition(array, low, high):\n",
    "  pivot = array[high]\n",
    "  i = low - 1\n",
    "\n",
    "  for j in range(low, high):\n",
    "    if array[j] <= pivot:\n",
    "      i = i + 1\n",
    "      (array[i], array[j]) = (array[j], array[i])\n",
    "  (array[i + 1], array[high]) = (array[high], array[i + 1])\n",
    "  return i + 1\n",
    "\n",
    "\n",
    "def quickSort(array, low, high):\n",
    "  if low < high:\n",
    "    pi = partition(array, low, high)\n",
    "    quickSort(array, low, pi - 1)\n",
    "    quickSort(array, pi + 1, high)\n",
    "\n",
    "\n",
    "data = [8, 7, 2, 1, 0, 9, 6]\n",
    "print(\"Unsorted Array\")\n",
    "print(data)\n",
    "\n",
    "size = len(data)\n",
    "\n",
    "quickSort(data, 0, size - 1)\n",
    "\n",
    "print('Sorted Array in Ascending Order:')\n",
    "print(data)"
   ]
  },
  {
   "cell_type": "code",
   "execution_count": 4,
   "metadata": {},
   "outputs": [
    {
     "name": "stdout",
     "output_type": "stream",
     "text": [
      "Sorted List :  [1, 3, 5, 6, 7, 8, 14, 99]\n"
     ]
    }
   ],
   "source": [
    "#bubble sort\n",
    "def bubble(list):\n",
    "\n",
    "    for i in range(0,len(list)):\n",
    "        for j in range(0, len(list)-i-1):\n",
    "            if list[j]>list[j+1]:\n",
    "                temp=list[j]\n",
    "                list[j]=list[j+1]\n",
    "                list[j+1]=temp\n",
    "    return list\n",
    "\n",
    "list=[3,6,1,7,8,99,14,5]\n",
    "print(\"Sorted List : \", bubble(list))"
   ]
  },
  {
   "cell_type": "code",
   "execution_count": 1,
   "metadata": {},
   "outputs": [
    {
     "name": "stdout",
     "output_type": "stream",
     "text": [
      "[1, 2, 4, 5, 6, 6, 7, 8, 10, 13]\n"
     ]
    }
   ],
   "source": [
    "#merge sort\n",
    "def merge_sort(list):\n",
    "    if len(list)>1:\n",
    "        mid=len(list)//2\n",
    "        left=list[:mid]\n",
    "        right=list[mid:]\n",
    "\n",
    "        merge_sort(left)\n",
    "        merge_sort(right)\n",
    "\n",
    "        i=0\n",
    "        j=0\n",
    "        k=0\n",
    "\n",
    "        while i<len(left) and j<len(right):\n",
    "            if left[i]<=right[j]:\n",
    "                list[k]=left[i]\n",
    "                i+=1\n",
    "            else:\n",
    "                list[k]=right[j]\n",
    "                j+=1\n",
    "            k+=1\n",
    "        \n",
    "        while i<len(left):\n",
    "            list[k]=left[i]\n",
    "            i+=1\n",
    "            k+=1\n",
    "        while j<len(right):\n",
    "            list[k]=right[j]\n",
    "            j+=1\n",
    "            k+=1\n",
    "\n",
    "    \n",
    "\n",
    "list=[7,4,6,2,5,13,8,1,10,6]\n",
    "merge_sort(list)\n",
    "print(list)"
   ]
  },
  {
   "cell_type": "code",
   "execution_count": 15,
   "metadata": {},
   "outputs": [
    {
     "ename": "IndexError",
     "evalue": "list assignment index out of range",
     "output_type": "error",
     "traceback": [
      "\u001b[0;31m---------------------------------------------------------------------------\u001b[0m",
      "\u001b[0;31mIndexError\u001b[0m                                Traceback (most recent call last)",
      "\u001b[1;32m/Users/siddarth/Desktop/DS/search&sort.ipynb Cell 8\u001b[0m in \u001b[0;36m<cell line: 27>\u001b[0;34m()\u001b[0m\n\u001b[1;32m     <a href='vscode-notebook-cell:/Users/siddarth/Desktop/DS/search%26sort.ipynb#X11sZmlsZQ%3D%3D?line=24'>25</a>\u001b[0m             k\u001b[39m+\u001b[39m\u001b[39m=\u001b[39m\u001b[39m1\u001b[39m\n\u001b[1;32m     <a href='vscode-notebook-cell:/Users/siddarth/Desktop/DS/search%26sort.ipynb#X11sZmlsZQ%3D%3D?line=25'>26</a>\u001b[0m a\u001b[39m=\u001b[39m[\u001b[39m123\u001b[39m,\u001b[39m4\u001b[39m,\u001b[39m76\u001b[39m,\u001b[39m90\u001b[39m,\u001b[39m45\u001b[39m,\u001b[39m34\u001b[39m,\u001b[39m23\u001b[39m,\u001b[39m11\u001b[39m,\u001b[39m90\u001b[39m,\u001b[39m87\u001b[39m]\n\u001b[0;32m---> <a href='vscode-notebook-cell:/Users/siddarth/Desktop/DS/search%26sort.ipynb#X11sZmlsZQ%3D%3D?line=26'>27</a>\u001b[0m merge(a,\u001b[39m0\u001b[39;49m,\u001b[39mlen\u001b[39;49m(a)\u001b[39m-\u001b[39;49m\u001b[39m1\u001b[39;49m)\n\u001b[1;32m     <a href='vscode-notebook-cell:/Users/siddarth/Desktop/DS/search%26sort.ipynb#X11sZmlsZQ%3D%3D?line=27'>28</a>\u001b[0m \u001b[39mprint\u001b[39m(a)\n",
      "\u001b[1;32m/Users/siddarth/Desktop/DS/search&sort.ipynb Cell 8\u001b[0m in \u001b[0;36mmerge\u001b[0;34m(a, low, high)\u001b[0m\n\u001b[1;32m      <a href='vscode-notebook-cell:/Users/siddarth/Desktop/DS/search%26sort.ipynb#X11sZmlsZQ%3D%3D?line=2'>3</a>\u001b[0m \u001b[39mif\u001b[39;00m low\u001b[39m<\u001b[39mhigh:\n\u001b[1;32m      <a href='vscode-notebook-cell:/Users/siddarth/Desktop/DS/search%26sort.ipynb#X11sZmlsZQ%3D%3D?line=3'>4</a>\u001b[0m     merge(a,low,mid)\n\u001b[0;32m----> <a href='vscode-notebook-cell:/Users/siddarth/Desktop/DS/search%26sort.ipynb#X11sZmlsZQ%3D%3D?line=4'>5</a>\u001b[0m     merge(a,mid\u001b[39m+\u001b[39;49m\u001b[39m1\u001b[39;49m,high)\n\u001b[1;32m      <a href='vscode-notebook-cell:/Users/siddarth/Desktop/DS/search%26sort.ipynb#X11sZmlsZQ%3D%3D?line=5'>6</a>\u001b[0m     left\u001b[39m=\u001b[39ma[:mid\u001b[39m+\u001b[39m\u001b[39m1\u001b[39m]   \n\u001b[1;32m      <a href='vscode-notebook-cell:/Users/siddarth/Desktop/DS/search%26sort.ipynb#X11sZmlsZQ%3D%3D?line=6'>7</a>\u001b[0m     right\u001b[39m=\u001b[39ma[mid\u001b[39m+\u001b[39m\u001b[39m1\u001b[39m:high\u001b[39m+\u001b[39m\u001b[39m1\u001b[39m]\n",
      "\u001b[1;32m/Users/siddarth/Desktop/DS/search&sort.ipynb Cell 8\u001b[0m in \u001b[0;36mmerge\u001b[0;34m(a, low, high)\u001b[0m\n\u001b[1;32m      <a href='vscode-notebook-cell:/Users/siddarth/Desktop/DS/search%26sort.ipynb#X11sZmlsZQ%3D%3D?line=1'>2</a>\u001b[0m mid\u001b[39m=\u001b[39m(high\u001b[39m+\u001b[39mlow)\u001b[39m/\u001b[39m\u001b[39m/\u001b[39m\u001b[39m2\u001b[39m\n\u001b[1;32m      <a href='vscode-notebook-cell:/Users/siddarth/Desktop/DS/search%26sort.ipynb#X11sZmlsZQ%3D%3D?line=2'>3</a>\u001b[0m \u001b[39mif\u001b[39;00m low\u001b[39m<\u001b[39mhigh:\n\u001b[0;32m----> <a href='vscode-notebook-cell:/Users/siddarth/Desktop/DS/search%26sort.ipynb#X11sZmlsZQ%3D%3D?line=3'>4</a>\u001b[0m     merge(a,low,mid)\n\u001b[1;32m      <a href='vscode-notebook-cell:/Users/siddarth/Desktop/DS/search%26sort.ipynb#X11sZmlsZQ%3D%3D?line=4'>5</a>\u001b[0m     merge(a,mid\u001b[39m+\u001b[39m\u001b[39m1\u001b[39m,high)\n\u001b[1;32m      <a href='vscode-notebook-cell:/Users/siddarth/Desktop/DS/search%26sort.ipynb#X11sZmlsZQ%3D%3D?line=5'>6</a>\u001b[0m     left\u001b[39m=\u001b[39ma[:mid\u001b[39m+\u001b[39m\u001b[39m1\u001b[39m]   \n",
      "\u001b[1;32m/Users/siddarth/Desktop/DS/search&sort.ipynb Cell 8\u001b[0m in \u001b[0;36mmerge\u001b[0;34m(a, low, high)\u001b[0m\n\u001b[1;32m      <a href='vscode-notebook-cell:/Users/siddarth/Desktop/DS/search%26sort.ipynb#X11sZmlsZQ%3D%3D?line=1'>2</a>\u001b[0m mid\u001b[39m=\u001b[39m(high\u001b[39m+\u001b[39mlow)\u001b[39m/\u001b[39m\u001b[39m/\u001b[39m\u001b[39m2\u001b[39m\n\u001b[1;32m      <a href='vscode-notebook-cell:/Users/siddarth/Desktop/DS/search%26sort.ipynb#X11sZmlsZQ%3D%3D?line=2'>3</a>\u001b[0m \u001b[39mif\u001b[39;00m low\u001b[39m<\u001b[39mhigh:\n\u001b[0;32m----> <a href='vscode-notebook-cell:/Users/siddarth/Desktop/DS/search%26sort.ipynb#X11sZmlsZQ%3D%3D?line=3'>4</a>\u001b[0m     merge(a,low,mid)\n\u001b[1;32m      <a href='vscode-notebook-cell:/Users/siddarth/Desktop/DS/search%26sort.ipynb#X11sZmlsZQ%3D%3D?line=4'>5</a>\u001b[0m     merge(a,mid\u001b[39m+\u001b[39m\u001b[39m1\u001b[39m,high)\n\u001b[1;32m      <a href='vscode-notebook-cell:/Users/siddarth/Desktop/DS/search%26sort.ipynb#X11sZmlsZQ%3D%3D?line=5'>6</a>\u001b[0m     left\u001b[39m=\u001b[39ma[:mid\u001b[39m+\u001b[39m\u001b[39m1\u001b[39m]   \n",
      "\u001b[1;32m/Users/siddarth/Desktop/DS/search&sort.ipynb Cell 8\u001b[0m in \u001b[0;36mmerge\u001b[0;34m(a, low, high)\u001b[0m\n\u001b[1;32m     <a href='vscode-notebook-cell:/Users/siddarth/Desktop/DS/search%26sort.ipynb#X11sZmlsZQ%3D%3D?line=9'>10</a>\u001b[0m \u001b[39mwhile\u001b[39;00m i\u001b[39m<\u001b[39m\u001b[39mlen\u001b[39m(left) \u001b[39mand\u001b[39;00m j\u001b[39m<\u001b[39m\u001b[39mlen\u001b[39m(right):\n\u001b[1;32m     <a href='vscode-notebook-cell:/Users/siddarth/Desktop/DS/search%26sort.ipynb#X11sZmlsZQ%3D%3D?line=10'>11</a>\u001b[0m     \u001b[39mif\u001b[39;00m left[i]\u001b[39m<\u001b[39m\u001b[39m=\u001b[39mright[j]:\n\u001b[0;32m---> <a href='vscode-notebook-cell:/Users/siddarth/Desktop/DS/search%26sort.ipynb#X11sZmlsZQ%3D%3D?line=11'>12</a>\u001b[0m         a[k]\u001b[39m=\u001b[39mleft[i]\n\u001b[1;32m     <a href='vscode-notebook-cell:/Users/siddarth/Desktop/DS/search%26sort.ipynb#X11sZmlsZQ%3D%3D?line=12'>13</a>\u001b[0m         i\u001b[39m+\u001b[39m\u001b[39m=\u001b[39m\u001b[39m1\u001b[39m\n\u001b[1;32m     <a href='vscode-notebook-cell:/Users/siddarth/Desktop/DS/search%26sort.ipynb#X11sZmlsZQ%3D%3D?line=13'>14</a>\u001b[0m     \u001b[39melse\u001b[39;00m:\n",
      "\u001b[0;31mIndexError\u001b[0m: list assignment index out of range"
     ]
    }
   ],
   "source": [
    "def merge(a,low,high):\n",
    "    mid=(high+low)//2\n",
    "    if low<high:\n",
    "        merge(a,low,mid)\n",
    "        merge(a,mid+1,high)\n",
    "        left=a[:mid+1]   \n",
    "        right=a[mid+1:high+1]\n",
    "        i,j=0,0\n",
    "        k=low\n",
    "        while i<len(left) and j<len(right):\n",
    "            if left[i]<=right[j]:\n",
    "                a[k]=left[i]\n",
    "                i+=1\n",
    "            else:\n",
    "                a[k]=right[j]\n",
    "                j+=1\n",
    "            k+=1\n",
    "        while i<len(left):\n",
    "            a[k]=left[i]\n",
    "            i+=1\n",
    "            k+=1\n",
    "        while j<len(right):\n",
    "            a[k]=right[j]\n",
    "            j+=1\n",
    "            k+=1\n",
    "a=[123,4,76,90,45,34,23,11,90,87]\n",
    "merge(a,0,len(a)-1)\n",
    "print(a)"
   ]
  },
  {
   "cell_type": "code",
   "execution_count": 14,
   "metadata": {},
   "outputs": [
    {
     "name": "stdout",
     "output_type": "stream",
     "text": [
      "[10, 56, 56, 76, 78]\n"
     ]
    }
   ],
   "source": [
    "def merge(a,low,high):\n",
    "    if low>=high:\n",
    "        return\n",
    "    elif low<high:\n",
    "        mid=(high+low)//2\n",
    "        merge(a,low,mid)\n",
    "        merge(a,mid+1,high)\n",
    "    left=a[low:mid+1]   \n",
    "    right=a[mid+1:high+1]\n",
    "    i,j=0,0\n",
    "    k=low\n",
    "    while i<len(left) and j<len(right):\n",
    "        if left[i]<=right[j]:\n",
    "            a[k]=left[i]\n",
    "            i+=1\n",
    "        else:\n",
    "            a[k]=right[j]\n",
    "            j+=1\n",
    "        k+=1\n",
    "    while i<len(left):\n",
    "        a[k]=left[i]\n",
    "        i+=1\n",
    "        k+=1\n",
    "    while j<len(right):\n",
    "        a[k]=right[j]\n",
    "        j+=1\n",
    "        k+=1\n",
    "a=[56,56,76,78,10]\n",
    "merge(a,0,len(a)-1)\n",
    "print(a)"
   ]
  }
 ],
 "metadata": {
  "kernelspec": {
   "display_name": "Python 3",
   "language": "python",
   "name": "python3"
  },
  "language_info": {
   "codemirror_mode": {
    "name": "ipython",
    "version": 3
   },
   "file_extension": ".py",
   "mimetype": "text/x-python",
   "name": "python",
   "nbconvert_exporter": "python",
   "pygments_lexer": "ipython3",
   "version": "3.10.2 (tags/v3.10.2:a58ebcc, Jan 17 2022, 14:12:15) [MSC v.1929 64 bit (AMD64)]"
  },
  "orig_nbformat": 4,
  "vscode": {
   "interpreter": {
    "hash": "2e993bf83ec523d09849f09350ed08db7b166d06891336a8ff089d7da4a5f54c"
   }
  }
 },
 "nbformat": 4,
 "nbformat_minor": 2
}
